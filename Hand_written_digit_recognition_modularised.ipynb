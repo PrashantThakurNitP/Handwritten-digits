{
 "cells": [
  {
   "cell_type": "markdown",
   "metadata": {},
   "source": [
    "# HANWRITTEN DIGIT RECOGNITION USING MNIST DATA SETS AND DEEP LEARNING"
   ]
  },
  {
   "cell_type": "markdown",
   "metadata": {},
   "source": [
    "* OPIMISATION FN USED -> GRADIENT DESCENT\n",
    "* Activation fn is Relu in inner layer and sigmoid in last layer\n",
    "* first 10000 data used for training and next 5000 for testing"
   ]
  },
  {
   "cell_type": "code",
   "execution_count": 1,
   "metadata": {},
   "outputs": [],
   "source": [
    "from scipy.io import loadmat\n",
    "import pandas as pd\n",
    "import numpy as np\n",
    "import matplotlib.pyplot as plt  #importing libraray\n",
    "import math\n",
    "import scipy.optimize as opt"
   ]
  },
  {
   "cell_type": "code",
   "execution_count": 2,
   "metadata": {},
   "outputs": [
    {
     "name": "stdout",
     "output_type": "stream",
     "text": [
      "0.25\n"
     ]
    }
   ],
   "source": [
    "def relu(z):\n",
    "    z[z<=0]=0\n",
    "    \n",
    "    return z\n",
    "def relu_grad(z):\n",
    "    z[z>=0]=1\n",
    "    z[z<0]=0\n",
    "    return z\n",
    "        \n",
    "        \n",
    "def sigmoid(x):\n",
    "    return 1 / (1 + np.exp(-x))  #sigmoid fn\n",
    "def sigmoidgrad(z): #it compute derivate of sigmoid of the fn\n",
    "    return sigmoid(z)*(1-sigmoid(z))\n",
    "\n",
    "print(sigmoidgrad(0))\n"
   ]
  },
  {
   "cell_type": "code",
   "execution_count": 3,
   "metadata": {},
   "outputs": [],
   "source": [
    "data = pd.read_csv('C:\\\\Users\\\\PRASHANT\\\\Desktop\\\\coding dec19\\\\project\\\\train.csv\\\\train.csv')"
   ]
  },
  {
   "cell_type": "code",
   "execution_count": 4,
   "metadata": {},
   "outputs": [
    {
     "data": {
      "text/plain": [
       "(42000, 785)"
      ]
     },
     "execution_count": 4,
     "metadata": {},
     "output_type": "execute_result"
    }
   ],
   "source": [
    "data.shape"
   ]
  },
  {
   "cell_type": "code",
   "execution_count": 5,
   "metadata": {},
   "outputs": [
    {
     "name": "stdout",
     "output_type": "stream",
     "text": [
      "Enter 1 if you want to train the model1\n"
     ]
    }
   ],
   "source": [
    "flag=int(input(\"Enter 1 if you want to train the model\"))"
   ]
  },
  {
   "cell_type": "code",
   "execution_count": 6,
   "metadata": {},
   "outputs": [],
   "source": [
    "mtrain=35000\n",
    "mtest=3500\n",
    "mval=3500\n",
    "n_para=784\n",
    "n_pixel=28"
   ]
  },
  {
   "cell_type": "markdown",
   "metadata": {},
   "source": [
    "* data is present inside a csv file which is loaded using pandas\n",
    "* data is 42000 X 785 size matrix \n",
    "* 3500 for training and 3500 for testing and 3500 for validation\n",
    "* next 3500 for training and next 3500 for test\n",
    "* 784 column is for 28 X 28 pixel image\n",
    "* first column for output\n",
    "* and next 784 column represent one pixel\n",
    "* each pixel contain value denoting intensity from 0 to 255 we regularize all column to obtain between 0 to 1\n",
    "* output Y is 35000 X 1 matrix , which actually represnt that no \n",
    "* we take out 1th column to 784th as X and  transpose it\n",
    "* we take out 0th column in Y\n",
    "\n",
    "* we comput y1 matrix which is 35000 X 10 matrix which contain 1 at poition which is value of Y in that row\n",
    "* we compute A2 matrix which result of forward propagation \n",
    "* from A3 we compute ouput matrix which contain digit from 1 to 9 in 35000 X 1 matrix\n",
    "* we compare output with Y matrix to find accuracy on test dat"
   ]
  },
  {
   "cell_type": "code",
   "execution_count": 7,
   "metadata": {},
   "outputs": [
    {
     "name": "stdout",
     "output_type": "stream",
     "text": [
      "   label  pixel0  pixel1  pixel2  pixel3  pixel4  pixel5  pixel6  pixel7  \\\n",
      "0      1       0       0       0       0       0       0       0       0   \n",
      "1      0       0       0       0       0       0       0       0       0   \n",
      "2      1       0       0       0       0       0       0       0       0   \n",
      "3      4       0       0       0       0       0       0       0       0   \n",
      "4      0       0       0       0       0       0       0       0       0   \n",
      "\n",
      "   pixel8  ...  pixel774  pixel775  pixel776  pixel777  pixel778  pixel779  \\\n",
      "0       0  ...         0         0         0         0         0         0   \n",
      "1       0  ...         0         0         0         0         0         0   \n",
      "2       0  ...         0         0         0         0         0         0   \n",
      "3       0  ...         0         0         0         0         0         0   \n",
      "4       0  ...         0         0         0         0         0         0   \n",
      "\n",
      "   pixel780  pixel781  pixel782  pixel783  \n",
      "0         0         0         0         0  \n",
      "1         0         0         0         0  \n",
      "2         0         0         0         0  \n",
      "3         0         0         0         0  \n",
      "4         0         0         0         0  \n",
      "\n",
      "[5 rows x 785 columns]\n"
     ]
    }
   ],
   "source": [
    "print(data.head()) #data is present inside dataframe which is obtained from csv files\n",
    "X=np.array(data)[:mtrain,1:]\n",
    "X_v=np.array(data)[mtrain:mtrain+mval,1:]\n",
    "X=X.T # X is 400 X 35000\n",
    "X_v=X_v.T\n",
    "Y=np.array(data)[:mtrain,:1]\n",
    "Y_v=np.array(data)[mtrain:mtrain+mval,:1]"
   ]
  },
  {
   "cell_type": "markdown",
   "metadata": {},
   "source": [
    "* i have taken 1 to 35000 column for training\n",
    "*  3500 separate data  is used for testing\n",
    "* 3500  data is used for validation after each iteration of gradient descent pass through data\n",
    "* validation data donot contribut to theta but they only help us to know when it is better to stop"
   ]
  },
  {
   "cell_type": "code",
   "execution_count": 8,
   "metadata": {},
   "outputs": [
    {
     "name": "stdout",
     "output_type": "stream",
     "text": [
      "255\n",
      "0\n"
     ]
    }
   ],
   "source": [
    "print(np.max(X))\n",
    "print(np.min(Y))"
   ]
  },
  {
   "cell_type": "code",
   "execution_count": 9,
   "metadata": {},
   "outputs": [
    {
     "data": {
      "text/plain": [
       "pandas.core.frame.DataFrame"
      ]
     },
     "execution_count": 9,
     "metadata": {},
     "output_type": "execute_result"
    }
   ],
   "source": [
    "type(data)"
   ]
  },
  {
   "cell_type": "code",
   "execution_count": 10,
   "metadata": {},
   "outputs": [
    {
     "name": "stdout",
     "output_type": "stream",
     "text": [
      "[[0. 0. 0. ... 0. 0. 0.]\n",
      " [0. 0. 0. ... 0. 0. 0.]\n",
      " [0. 0. 0. ... 0. 0. 0.]\n",
      " ...\n",
      " [0. 0. 0. ... 0. 0. 0.]\n",
      " [0. 0. 0. ... 0. 0. 0.]\n",
      " [0. 0. 0. ... 0. 0. 0.]]\n",
      "1.0\n",
      "0.0\n"
     ]
    }
   ],
   "source": [
    "X=X/255.0\n",
    "print(X[1:10,1:])\n",
    "print(np.max(X))\n",
    "print(np.min(X))"
   ]
  },
  {
   "cell_type": "code",
   "execution_count": 11,
   "metadata": {},
   "outputs": [
    {
     "name": "stdout",
     "output_type": "stream",
     "text": [
      "1.0\n",
      "0.0\n"
     ]
    }
   ],
   "source": [
    "X_v=X_v/255\n",
    "print(np.max(X_v))\n",
    "print(np.min(X_v))"
   ]
  },
  {
   "cell_type": "code",
   "execution_count": 12,
   "metadata": {},
   "outputs": [
    {
     "name": "stdout",
     "output_type": "stream",
     "text": [
      "(784, 35000)\n",
      "(784, 3500)\n",
      "(256, 784) (256, 1) (64, 256) (64, 1) (10, 64) (10, 1)\n"
     ]
    }
   ],
   "source": [
    "\n",
    "m_v=mval\n",
    "#theta1=np.random.uniform(-0.12,0.12,(25,n_para)) # random initilization need to be done in Neural N. (but not in Log. Reg.)\n",
    "theta1 = np.random.uniform(-0.12,0.12,(256,n_para))\n",
    "b1=np.zeros([256,1])\n",
    "#theta2=np.random.uniform(-0.12,0.12,(25,25))\n",
    "theta2 = np.random.uniform(-0.12,0.12,(64,256))\n",
    "b2=np.zeros([64,1])\n",
    "\n",
    "theta3=np.random.uniform(-0.12,0.12,(10,64))\n",
    "b3=np.zeros([10,1])\n",
    "\n",
    "print(X.shape)\n",
    "print(X_v.shape)\n",
    "print(theta1.shape,b1.shape,theta2.shape,b2.shape,theta3.shape,b3.shape)\n"
   ]
  },
  {
   "cell_type": "code",
   "execution_count": 13,
   "metadata": {},
   "outputs": [
    {
     "name": "stdout",
     "output_type": "stream",
     "text": [
      "(784, 35000) (35000, 1)\n"
     ]
    }
   ],
   "source": [
    "print(X.shape,Y.shape)"
   ]
  },
  {
   "cell_type": "code",
   "execution_count": 14,
   "metadata": {},
   "outputs": [
    {
     "name": "stdout",
     "output_type": "stream",
     "text": [
      "(784, 3500) (3500, 1)\n"
     ]
    }
   ],
   "source": [
    "print(X_v.shape,Y_v.shape)"
   ]
  },
  {
   "cell_type": "code",
   "execution_count": 15,
   "metadata": {},
   "outputs": [
    {
     "name": "stdout",
     "output_type": "stream",
     "text": [
      "(35000, 1) <class 'numpy.ndarray'>\n",
      "[[1]\n",
      " [0]\n",
      " [1]\n",
      " ...\n",
      " [7]\n",
      " [7]\n",
      " [0]]\n"
     ]
    }
   ],
   "source": [
    "\n",
    "print(Y.shape,type(Y))\n",
    "#np.place(Y, Y == 10, 0)\n",
    "print(Y[0:mtrain,:])"
   ]
  },
  {
   "cell_type": "code",
   "execution_count": 16,
   "metadata": {},
   "outputs": [
    {
     "name": "stdout",
     "output_type": "stream",
     "text": [
      "(35000, 1) <class 'numpy.ndarray'>\n",
      "(784, 35000) <class 'numpy.ndarray'>\n",
      "[[1]\n",
      " [0]\n",
      " [1]\n",
      " ...\n",
      " [7]\n",
      " [7]\n",
      " [0]]\n"
     ]
    }
   ],
   "source": [
    "\n",
    "\n",
    "print(Y.shape,type(Y))\n",
    "print(X.shape,type(X))\n",
    "print(Y)"
   ]
  },
  {
   "cell_type": "code",
   "execution_count": 17,
   "metadata": {},
   "outputs": [
    {
     "name": "stdout",
     "output_type": "stream",
     "text": [
      "(3500, 1) <class 'numpy.ndarray'>\n",
      "(784, 3500) <class 'numpy.ndarray'>\n",
      "[[2]\n",
      " [2]\n",
      " [5]\n",
      " ...\n",
      " [1]\n",
      " [1]\n",
      " [9]]\n"
     ]
    }
   ],
   "source": [
    "\n",
    "\n",
    "print(Y_v.shape,type(Y_v))\n",
    "print(X_v.shape,type(X_v))\n",
    "print(Y_v)"
   ]
  },
  {
   "cell_type": "code",
   "execution_count": 18,
   "metadata": {},
   "outputs": [
    {
     "name": "stdout",
     "output_type": "stream",
     "text": [
      "(256, 784)\n",
      "(64, 256)\n",
      "(10, 64)\n",
      "(784, 35000)\n",
      "<class 'numpy.ndarray'>\n"
     ]
    }
   ],
   "source": [
    "n_label=10\n",
    "\n",
    "\n",
    "print(theta1.shape)\n",
    "print(theta2.shape)\n",
    "print(theta3.shape)\n",
    "\n",
    "print(X.shape)\n",
    "\n",
    "print(type(X))"
   ]
  },
  {
   "cell_type": "code",
   "execution_count": 19,
   "metadata": {},
   "outputs": [],
   "source": [
    "   \n",
    "\n",
    "    # prediction function take input and predict output    \n",
    "def predictions(theta1,theta2,theta3,b1,b2,b3,X):\n",
    "        A0=X #784 X m\n",
    "        print(\"input shape \",A0.shape)\n",
    "        Z1=theta1@A0+b1        #256 X m\n",
    "        A1=relu(Z1)            #256 X m\n",
    "        Z2=theta2@A1+b2        # 64 X m\n",
    "        A2=relu(Z2)            # 64 X m\n",
    "        #print(\"A2 shape \",A2.shape)\n",
    "        Z3=theta3@A2+b3        #10 X m\n",
    "        A3=sigmoid(Z3)         #10 X m\n",
    "   \n",
    "        output=np.argmax(A3, axis=0)   # 1 X m\n",
    "        output=output.reshape((output.shape[0],1))\n",
    "        #print(\"The predicted image ar \",output_rand)\n",
    "        return output\n"
   ]
  },
  {
   "cell_type": "code",
   "execution_count": 20,
   "metadata": {},
   "outputs": [
    {
     "name": "stdout",
     "output_type": "stream",
     "text": [
      "The predictions are\n",
      "input shape  (784, 35000)\n",
      "[[0]\n",
      " [0]\n",
      " [4]\n",
      " ...\n",
      " [6]\n",
      " [5]\n",
      " [1]]\n"
     ]
    }
   ],
   "source": [
    "print(\"The predictions are\")\n",
    "output=predictions(theta1,theta2,theta3,b1,b2,b3,X)\n",
    "print(output)"
   ]
  },
  {
   "cell_type": "code",
   "execution_count": 21,
   "metadata": {},
   "outputs": [],
   "source": [
    "def accuracy(theta1,theta2,theta3,b1,b2,b3,X,Y):\n",
    "    A0=X\n",
    "   # print(\"A0 shape \",A0.shape)\n",
    "    Z1=theta1@A0+b1\n",
    "    A1=relu(Z1) # in all layer except last layer relu activation fn is used\n",
    "    #print(\"A1 shape \",A1.shape)\n",
    "   # print(A1.shape)\n",
    "    Z2=theta2@A1+b2\n",
    "    A2=relu(Z2)\n",
    "    #print(\"A2 shape \",A2.shape)\n",
    "    Z3=theta3@A2+b3\n",
    "    A3=sigmoid(Z3)\n",
    "    \n",
    "   # print(\"A3 shape \",A3.shape)\n",
    "    output=np.argmax(A3, axis=0) #output contain predicted digit using hypothesis\n",
    "    #print(\"output shape \",output.shape)\n",
    "    #print(Y)\n",
    "    output=output.reshape((Y.shape))\n",
    "    #print(\"output shape\",output.shape)\n",
    "    #print(output)\n",
    "    print(\" accuracy  :\", str(100 * np.mean(output == Y)) + \"%\")\n",
    "\n",
    "    "
   ]
  },
  {
   "cell_type": "code",
   "execution_count": 22,
   "metadata": {},
   "outputs": [
    {
     "name": "stdout",
     "output_type": "stream",
     "text": [
      " accuracy on training data  without training :\n",
      " accuracy  : 10.094285714285714%\n"
     ]
    }
   ],
   "source": [
    "print(\" accuracy on training data  without training :\")\n",
    "accuracy(theta1,theta2,theta3,b1,b2,b3,X,Y)"
   ]
  },
  {
   "cell_type": "code",
   "execution_count": 23,
   "metadata": {},
   "outputs": [
    {
     "name": "stdout",
     "output_type": "stream",
     "text": [
      "(35000, 1)\n",
      "(35000, 1)\n"
     ]
    }
   ],
   "source": [
    "print(Y.shape)\n",
    "print(output.shape)\n"
   ]
  },
  {
   "cell_type": "code",
   "execution_count": 24,
   "metadata": {},
   "outputs": [
    {
     "name": "stdout",
     "output_type": "stream",
     "text": [
      "[[0. 1. 0. ... 0. 0. 1.]\n",
      " [1. 0. 1. ... 0. 0. 0.]\n",
      " [0. 0. 0. ... 0. 0. 0.]\n",
      " ...\n",
      " [0. 0. 0. ... 1. 1. 0.]\n",
      " [0. 0. 0. ... 0. 0. 0.]\n",
      " [0. 0. 0. ... 0. 0. 0.]]\n"
     ]
    }
   ],
   "source": [
    "\n",
    "y1=np.zeros([10,mtrain])\n",
    "for u in range(0,mtrain):\n",
    "    y1[Y[u],u]=1\n",
    "print(y1)"
   ]
  },
  {
   "cell_type": "code",
   "execution_count": 25,
   "metadata": {},
   "outputs": [],
   "source": [
    "m_v=mval\n",
    "y1_v=np.zeros([10,m_v])\n",
    "for u in range(0,mval):\n",
    "        y1_v[Y_v[u],u]=1"
   ]
  },
  {
   "cell_type": "code",
   "execution_count": 26,
   "metadata": {},
   "outputs": [
    {
     "data": {
      "text/plain": [
       "(784, 35000)"
      ]
     },
     "execution_count": 26,
     "metadata": {},
     "output_type": "execute_result"
    }
   ],
   "source": [
    "X.shape"
   ]
  },
  {
   "cell_type": "code",
   "execution_count": 27,
   "metadata": {},
   "outputs": [
    {
     "name": "stdout",
     "output_type": "stream",
     "text": [
      "regularised cost is  6.996386922100161\n"
     ]
    }
   ],
   "source": [
    "def cost_reg(theta1,b1,theta2,b2,theta3,b3,X,y1,m=mtrain):\n",
    "    \n",
    "    \n",
    "    \n",
    "    lambda1=1\n",
    "    A0=X\n",
    "    \n",
    "    Z1=theta1@A0+b1\n",
    "    A1=relu(Z1)\n",
    "    Z2=theta2@A1+b2\n",
    "    A2=relu(Z2)\n",
    "    \n",
    "    Z3=theta3@A2+b3\n",
    "    A3=sigmoid(Z3)\n",
    "    A3[A3==0]=0.00001\n",
    "    A3[A3==1]=0.99999\n",
    "    \n",
    "    J_cost1=np.sum((y1*np.log(A3))+((1-y1)*np.log(1-A3)) )\n",
    "    J_cost2=np.sum(np.square(theta1))+np.sum(np.square(theta2))+np.sum(np.square(theta3))\n",
    "    J_final=(J_cost1)/(-m)+(lambda1/(2*m))*J_cost2\n",
    "    #print(\"regularised cost is \",J_final)\n",
    "    return J_final\n",
    "\n",
    "print(\"regularised cost is \",cost_reg(theta1,b1,theta2,b2,theta3,b3,X,y1))"
   ]
  },
  {
   "cell_type": "code",
   "execution_count": 28,
   "metadata": {},
   "outputs": [],
   "source": [
    "def compute_grad(theta1,b1,theta2,b2,theta3,b3,X,y1,alpha,m=mtrain):\n",
    "    \n",
    "    \n",
    "    #forward propagation\n",
    "    A0=X                  #784 X m\n",
    "    \n",
    "    Z1=theta1@A0+b1       #256 X m        (256 X 784)  X (784 X m)\n",
    "    A1=relu(Z1)           #256 X m         \n",
    "    Z2=theta2@A1+b2       # 64 X m        (64 X 256)  X (256 X m)\n",
    "    A2=relu(Z2)          # 64 X m\n",
    "   \n",
    "    Z3=theta3@A2+b3     #10 X m           (10 X 64 ) X (64 X m)\n",
    "    A3=sigmoid(Z3)      #10 X m\n",
    "    A3[A3==0]=0.00001\n",
    "    A3[A3==1]=0.99999\n",
    "    \n",
    "      \n",
    "     #backward propagation  \n",
    "    \n",
    "    delta3=A3-y1                        #10 X m\n",
    "    Delta3=(delta3@(A2.T))/m            #a3=A1  #dw3      10 X 64             (10 X m ) X ( m X 64)\n",
    "    db3=np.sum(delta3,axis=1)/m         # 10 X 1\n",
    "    db3=db3.reshape((10,1))\n",
    "    \n",
    "    #delta2=((delta3)@(theta3))*(sigmoidgrad(A2))  # 10 Xm\n",
    "    delta2=((theta3.T)@(delta3))*(relu_grad(A2))   # 64 Xm\n",
    "    Delta2=(delta2@(A1.T))/m #a1=A1  #dw2            64 X 256     # (64 X m) X ( m X 256 ) \n",
    "    db2=np.sum(delta2,axis=1) /m                   # 64 X 1\n",
    "    db2=db2.reshape((64,1))\n",
    "    \n",
    "    delta1=((theta2.T)@(delta2))*(relu_grad(A1))  # 256 X m    (256 X 64) X ( 64 X m )\n",
    "    Delta1=(delta1@(A0.T))/m #a1=A1  #dw2           256 X 784   (256 X m) X (m X 784)\n",
    "    db1=np.sum(delta1,axis=1) /m                  # 256 X 1\n",
    "    db1=db1.reshape((256,1))\n",
    "    \n",
    "    theta3=theta3-(alpha)*Delta3                    # 10 X 64\n",
    "    theta2=theta2-(alpha)*Delta2                    #  64 X 256\n",
    "    theta1=theta1-(alpha)*Delta1                    #  256 X 784\n",
    "    b1=b1-(alpha)*db1\n",
    "    b2=b2-(alpha)*db2\n",
    "    b3=b3-(alpha)*db3\n",
    "    return [theta1 ,theta2 ,theta3, b1, b2, b3]\n",
    "    \n",
    "   "
   ]
  },
  {
   "cell_type": "code",
   "execution_count": 29,
   "metadata": {},
   "outputs": [],
   "source": [
    "y1=np.zeros([10,mtrain])\n",
    "for u in range(0,mtrain):\n",
    "        y1[Y[u],u]=1\n",
    "\n"
   ]
  },
  {
   "cell_type": "code",
   "execution_count": 30,
   "metadata": {},
   "outputs": [],
   "source": [
    "m_v=2000\n",
    "y1_v=np.zeros([10,mval])\n",
    "for u in range(0,mval):\n",
    "        y1_v[Y_v[u],u]=1\n",
    "\n"
   ]
  },
  {
   "cell_type": "markdown",
   "metadata": {},
   "source": [
    "# Training and validating using cost and accuracy on training aswell as validation data"
   ]
  },
  {
   "cell_type": "code",
   "execution_count": 31,
   "metadata": {},
   "outputs": [],
   "source": [
    "    \n",
    "def train_model(theta1,b1,theta2,b2,theta3,b3,X,Y,y1,mtrain,X_v,Y_v,y1_v,mval):    \n",
    "    alpha=0.1 #initially i take large value of alpha ie lerning rate\n",
    "    for i1 in range(0,4000):\n",
    "        [theta1 ,theta2 ,theta3, b1, b2, b3]=compute_grad(theta1,b1,theta2,b2,theta3,b3,X,y1,alpha,mtrain)\n",
    "        if i1%200==0:\n",
    "            print(\"Iteration \",i1,end=\" \")\n",
    "            print(\" Trainingcost is <<<<<-\",cost_reg(theta1,b1,theta2,b2,theta3,b3,X,y1,mtrain))\n",
    "            print(\"\\t\\tTraining  \",end=' ')\n",
    "            accuracy(theta1,theta2,theta3,b1,b2,b3,X,Y)\n",
    "            print(\" \\t\\tvalidation cost         ->>>>\",cost_reg(theta1,b1,theta2,b2,theta3,b3,X_v,y1_v,mval))\n",
    "            print(\"\\t\\tVaidation  \",end=' ')\n",
    "            accuracy(theta1,theta2,theta3,b1,b2,b3,X_v,Y_v)\n",
    "            #print(\" accuracy on training data  without training :\", str(100 * np.mean(output == Y)) + \"%\")\n",
    "            \n",
    "            print()\n",
    "    return  [theta1 ,theta2 ,theta3, b1, b2, b3]"
   ]
  },
  {
   "cell_type": "code",
   "execution_count": 32,
   "metadata": {},
   "outputs": [
    {
     "name": "stdout",
     "output_type": "stream",
     "text": [
      "Iteration  0  Trainingcost is <<<<<- 5.105204823003677\n",
      "\t\tTraining    accuracy  : 11.437142857142856%\n",
      " \t\tvalidation cost         ->>>> 5.235273668005036\n",
      "\t\tVaidation    accuracy  : 11.257142857142858%\n",
      "\n",
      "Iteration  200  Trainingcost is <<<<<- 0.7480473948263111\n",
      "\t\tTraining    accuracy  : 89.69142857142856%\n",
      " \t\tvalidation cost         ->>>> 0.8730969532395397\n",
      "\t\tVaidation    accuracy  : 89.74285714285715%\n",
      "\n",
      "Iteration  400  Trainingcost is <<<<<- 0.5986349357788435\n",
      "\t\tTraining    accuracy  : 91.44857142857143%\n",
      " \t\tvalidation cost         ->>>> 0.7382840306178376\n",
      "\t\tVaidation    accuracy  : 91.02857142857142%\n",
      "\n",
      "Iteration  600  Trainingcost is <<<<<- 0.5414832444836334\n",
      "\t\tTraining    accuracy  : 92.35142857142857%\n",
      " \t\tvalidation cost         ->>>> 0.6888356784819383\n",
      "\t\tVaidation    accuracy  : 91.85714285714286%\n",
      "\n",
      "Iteration  800  Trainingcost is <<<<<- 0.5057265888248355\n",
      "\t\tTraining    accuracy  : 92.96857142857144%\n",
      " \t\tvalidation cost         ->>>> 0.6590076258050741\n",
      "\t\tVaidation    accuracy  : 92.45714285714286%\n",
      "\n",
      "Iteration  1000  Trainingcost is <<<<<- 0.4793738541316149\n",
      "\t\tTraining    accuracy  : 93.35142857142857%\n",
      " \t\tvalidation cost         ->>>> 0.6385343402246513\n",
      "\t\tVaidation    accuracy  : 92.77142857142857%\n",
      "\n",
      "Iteration  1200  Trainingcost is <<<<<- 0.4590684562208428\n",
      "\t\tTraining    accuracy  : 93.62285714285714%\n",
      " \t\tvalidation cost         ->>>> 0.6246706352674476\n",
      "\t\tVaidation    accuracy  : 93.0%\n",
      "\n",
      "Iteration  1400  Trainingcost is <<<<<- 0.44138465797616055\n",
      "\t\tTraining    accuracy  : 93.97999999999999%\n",
      " \t\tvalidation cost         ->>>> 0.6130108347602894\n",
      "\t\tVaidation    accuracy  : 93.14285714285714%\n",
      "\n",
      "Iteration  1600  Trainingcost is <<<<<- 0.42848330153375036\n",
      "\t\tTraining    accuracy  : 94.18857142857144%\n",
      " \t\tvalidation cost         ->>>> 0.605888305502026\n",
      "\t\tVaidation    accuracy  : 93.31428571428572%\n",
      "\n",
      "Iteration  1800  Trainingcost is <<<<<- 0.4148744109919756\n",
      "\t\tTraining    accuracy  : 94.41142857142857%\n",
      " \t\tvalidation cost         ->>>> 0.5983609148195657\n",
      "\t\tVaidation    accuracy  : 93.54285714285714%\n",
      "\n",
      "Iteration  2000  Trainingcost is <<<<<- 0.406680348207196\n",
      "\t\tTraining    accuracy  : 94.49428571428572%\n",
      " \t\tvalidation cost         ->>>> 0.5949288169961133\n",
      "\t\tVaidation    accuracy  : 93.51428571428572%\n",
      "\n",
      "Iteration  2200  Trainingcost is <<<<<- 0.3952823505204294\n",
      "\t\tTraining    accuracy  : 94.76%\n",
      " \t\tvalidation cost         ->>>> 0.589715377175715\n",
      "\t\tVaidation    accuracy  : 93.71428571428572%\n",
      "\n",
      "Iteration  2400  Trainingcost is <<<<<- 0.39074463644781554\n",
      "\t\tTraining    accuracy  : 94.76571428571428%\n",
      " \t\tvalidation cost         ->>>> 0.5894508606658734\n",
      "\t\tVaidation    accuracy  : 93.68571428571428%\n",
      "\n",
      "Iteration  2600  Trainingcost is <<<<<- 0.3807810019527187\n",
      "\t\tTraining    accuracy  : 94.93714285714286%\n",
      " \t\tvalidation cost         ->>>> 0.5855749157237864\n",
      "\t\tVaidation    accuracy  : 93.8%\n",
      "\n",
      "Iteration  2800  Trainingcost is <<<<<- 0.3777498811184412\n",
      "\t\tTraining    accuracy  : 94.96%\n",
      " \t\tvalidation cost         ->>>> 0.5858830082389836\n",
      "\t\tVaidation    accuracy  : 93.85714285714286%\n",
      "\n",
      "Iteration  3000  Trainingcost is <<<<<- 0.40080997253771755\n",
      "\t\tTraining    accuracy  : 94.54571428571428%\n",
      " \t\tvalidation cost         ->>>> 0.6113314199076404\n",
      "\t\tVaidation    accuracy  : 93.65714285714286%\n",
      "\n",
      "Iteration  3200  Trainingcost is <<<<<- 0.36815204410429103\n",
      "\t\tTraining    accuracy  : 95.08857142857143%\n",
      " \t\tvalidation cost         ->>>> 0.5855478131978996\n",
      "\t\tVaidation    accuracy  : 93.97142857142858%\n",
      "\n",
      "Iteration  3400  Trainingcost is <<<<<- 0.36848113885219014\n",
      "\t\tTraining    accuracy  : 95.08285714285715%\n",
      " \t\tvalidation cost         ->>>> 0.5882765934902048\n",
      "\t\tVaidation    accuracy  : 94.02857142857142%\n",
      "\n",
      "Iteration  3600  Trainingcost is <<<<<- 0.3599577469941243\n",
      "\t\tTraining    accuracy  : 95.28285714285715%\n",
      " \t\tvalidation cost         ->>>> 0.5860868136177371\n",
      "\t\tVaidation    accuracy  : 94.19999999999999%\n",
      "\n",
      "Iteration  3800  Trainingcost is <<<<<- 0.3618618553636503\n",
      "\t\tTraining    accuracy  : 95.22571428571428%\n",
      " \t\tvalidation cost         ->>>> 0.5886594884050044\n",
      "\t\tVaidation    accuracy  : 94.28571428571428%\n",
      "\n"
     ]
    }
   ],
   "source": [
    "if flag:\n",
    "    [theta1 ,theta2 ,theta3, b1, b2, b3]=train_model(theta1,b1,theta2,b2,theta3,b3,X,Y,y1,mtrain,X_v,Y_v,y1_v,mval)"
   ]
  },
  {
   "cell_type": "markdown",
   "metadata": {},
   "source": [
    "* from regularisation cost and validation cost we can do early stopping\n",
    "* from both of these cost we can predict that it is better to stop at 2000 iteration and we are overfitting after 2000\n",
    "* since validation cost has started to increasing after 2000 iteration it means model is overfitting after that\n",
    "* we are not training our model on validation data we are only finding cost to do early stopping and avoid overfitting"
   ]
  },
  {
   "cell_type": "code",
   "execution_count": 33,
   "metadata": {},
   "outputs": [
    {
     "name": "stdout",
     "output_type": "stream",
     "text": [
      "For Training data\n",
      " accuracy  : 95.16571428571429%\n"
     ]
    },
    {
     "data": {
      "text/plain": [
       "0.36637337027233347"
      ]
     },
     "execution_count": 33,
     "metadata": {},
     "output_type": "execute_result"
    }
   ],
   "source": [
    "print(\"For Training data\")\n",
    "accuracy(theta1,theta2,theta3,b1,b2,b3,X,Y)\n",
    "cost_reg(theta1,b1,theta2,b2,theta3,b3,X,y1)"
   ]
  },
  {
   "cell_type": "markdown",
   "metadata": {},
   "source": [
    "* It is possible to achieve nearly 99 % accuracy using more iteration but our model will be ,then overfitting and will not generalize   to new data sets\n",
    "    "
   ]
  },
  {
   "cell_type": "markdown",
   "metadata": {},
   "source": [
    "# Training done\n",
    "* now we have achieved a trained model which we will used to test random data with 28 X 28 pixel digit converted to 784 pixel \n",
    "as 784 feature which shows grayscale value of each digit\n",
    " "
   ]
  },
  {
   "cell_type": "markdown",
   "metadata": {},
   "source": [
    "# Now testing of different data \n",
    "* we are using nearly half as training data for testing"
   ]
  },
  {
   "cell_type": "code",
   "execution_count": 34,
   "metadata": {},
   "outputs": [],
   "source": [
    "m_t_s=mval+mtrain  #where to start\n",
    "m_test=3500"
   ]
  },
  {
   "cell_type": "code",
   "execution_count": 35,
   "metadata": {},
   "outputs": [],
   "source": [
    "X_test=np.array(data)[m_t_s:m_t_s+mtest,1:]\n",
    "X_test=X_test.T # X is 400 X 5000\n",
    "Y_test=np.array(data)[m_t_s:m_t_s+mtest,:1]"
   ]
  },
  {
   "cell_type": "code",
   "execution_count": 36,
   "metadata": {},
   "outputs": [
    {
     "data": {
      "text/plain": [
       "(3500, 1)"
      ]
     },
     "execution_count": 36,
     "metadata": {},
     "output_type": "execute_result"
    }
   ],
   "source": [
    "Y_test.shape"
   ]
  },
  {
   "cell_type": "code",
   "execution_count": 37,
   "metadata": {},
   "outputs": [
    {
     "data": {
      "text/plain": [
       "(784, 3500)"
      ]
     },
     "execution_count": 37,
     "metadata": {},
     "output_type": "execute_result"
    }
   ],
   "source": [
    "X_test.shape"
   ]
  },
  {
   "cell_type": "code",
   "execution_count": 38,
   "metadata": {},
   "outputs": [],
   "source": [
    "X_test=X_test/255"
   ]
  },
  {
   "cell_type": "code",
   "execution_count": 39,
   "metadata": {},
   "outputs": [
    {
     "name": "stdout",
     "output_type": "stream",
     "text": [
      "[[0. 0. 0. ... 0. 0. 0.]\n",
      " [0. 1. 0. ... 0. 0. 0.]\n",
      " [0. 0. 1. ... 0. 0. 0.]\n",
      " ...\n",
      " [1. 0. 0. ... 1. 0. 0.]\n",
      " [0. 0. 0. ... 0. 0. 0.]\n",
      " [0. 0. 0. ... 0. 0. 1.]]\n"
     ]
    }
   ],
   "source": [
    "y1_test=np.zeros([10,m_test])\n",
    "for u in range(0,mtest):\n",
    "    y1_test[Y_test[u],u]=1\n",
    "print(y1_test)"
   ]
  },
  {
   "cell_type": "code",
   "execution_count": 40,
   "metadata": {},
   "outputs": [
    {
     "name": "stdout",
     "output_type": "stream",
     "text": [
      "Test    accuracy  : 93.85714285714286%\n"
     ]
    }
   ],
   "source": [
    "print(\"Test  \",end=\" \")\n",
    "accuracy(theta1,theta2,theta3,b1,b2,b3,X_test,Y_test) # printing test accuracy"
   ]
  },
  {
   "cell_type": "code",
   "execution_count": 41,
   "metadata": {},
   "outputs": [
    {
     "name": "stdout",
     "output_type": "stream",
     "text": [
      "Cost on test data :0.6272247514569266\n"
     ]
    }
   ],
   "source": [
    "print(\"Cost on test data \",end=':')\n",
    "print(cost_reg(theta1,b1,theta2,b2,theta3,b3,X_test,y1_test,m_test) )"
   ]
  },
  {
   "cell_type": "code",
   "execution_count": 42,
   "metadata": {},
   "outputs": [
    {
     "name": "stdout",
     "output_type": "stream",
     "text": [
      "(256, 784) (64, 256) (10, 64) (256, 1) (64, 1) (10, 1)\n"
     ]
    }
   ],
   "source": [
    "print(theta1.shape,theta2.shape,theta3.shape,b1.shape,b2.shape,b3.shape)"
   ]
  },
  {
   "cell_type": "markdown",
   "metadata": {},
   "source": [
    "# MODEL TRAINING AND TESTING DONE!\n",
    "* now we store model"
   ]
  },
  {
   "cell_type": "code",
   "execution_count": 43,
   "metadata": {},
   "outputs": [],
   "source": [
    "def store_model(theta1,theta2,theta3,b1,b2,b3):\n",
    "        import pandas as pd \n",
    "        pd.DataFrame(theta1).to_csv(\"C:\\\\Users\\PRASHANT\\\\Desktop\\\\coding dec19\\\\project\\\\train_parameter\\\\theta1.csv\")\n",
    "        pd.DataFrame(theta2).to_csv(\"C:\\\\Users\\PRASHANT\\\\Desktop\\\\coding dec19\\\\project\\\\train_parameter\\\\theta2.csv\")\n",
    "        pd.DataFrame(theta3).to_csv(\"C:\\\\Users\\PRASHANT\\\\Desktop\\\\coding dec19\\\\project\\\\train_parameter\\\\theta3.csv\")\n",
    "        pd.DataFrame(b1).to_csv(\"C:\\\\Users\\PRASHANT\\\\Desktop\\\\coding dec19\\\\project\\\\train_parameter\\\\b1.csv\")\n",
    "        pd.DataFrame(b2).to_csv(\"C:\\\\Users\\PRASHANT\\\\Desktop\\\\coding dec19\\\\project\\\\train_parameter\\\\b2.csv\")\n",
    "        pd.DataFrame(b3).to_csv(\"C:\\\\Users\\PRASHANT\\\\Desktop\\\\coding dec19\\\\project\\\\train_parameter\\\\b3.csv\")"
   ]
  },
  {
   "cell_type": "code",
   "execution_count": 44,
   "metadata": {},
   "outputs": [
    {
     "name": "stdout",
     "output_type": "stream",
     "text": [
      "Enter 1 if you want to update model1\n"
     ]
    }
   ],
   "source": [
    "flag1=int(input(\"Enter 1 if you want to update model\"))"
   ]
  },
  {
   "cell_type": "code",
   "execution_count": 45,
   "metadata": {},
   "outputs": [],
   "source": [
    "if flag1:\n",
    "        store_model(theta1,theta2,theta3,b1,b2,b3)"
   ]
  },
  {
   "cell_type": "markdown",
   "metadata": {},
   "source": [
    "# Thus our model has nerly 94% accuracy on training data and has nearly 91% to 93% accuracy on test data which is quite good"
   ]
  },
  {
   "cell_type": "markdown",
   "metadata": {},
   "source": [
    "#   No need to run part above it every time , just use weights stored in csv file"
   ]
  },
  {
   "cell_type": "code",
   "execution_count": 46,
   "metadata": {},
   "outputs": [],
   "source": [
    "from scipy.io import loadmat\n",
    "import pandas as pd\n",
    "import numpy as np\n",
    "import matplotlib.pyplot as plt  #importing libraray\n",
    "import math\n",
    "import scipy.optimize as opt\n"
   ]
  },
  {
   "cell_type": "code",
   "execution_count": 47,
   "metadata": {},
   "outputs": [],
   "source": [
    "theta11=pd.read_csv(\"C:\\\\Users\\PRASHANT\\\\Desktop\\\\coding dec19\\\\project\\\\train_parameter\\\\theta1.csv\")\n",
    "theta21=pd.read_csv(\"C:\\\\Users\\PRASHANT\\\\Desktop\\\\coding dec19\\\\project\\\\train_parameter\\\\theta2.csv\")\n",
    "theta31=pd.read_csv(\"C:\\\\Users\\PRASHANT\\\\Desktop\\\\coding dec19\\\\project\\\\train_parameter\\\\theta3.csv\")\n",
    "b11=pd.read_csv(\"C:\\\\Users\\PRASHANT\\\\Desktop\\\\coding dec19\\\\project\\\\train_parameter\\\\b1.csv\")\n",
    "b21=pd.read_csv(\"C:\\\\Users\\PRASHANT\\\\Desktop\\\\coding dec19\\\\project\\\\train_parameter\\\\b2.csv\")\n",
    "b31=pd.read_csv(\"C:\\\\Users\\PRASHANT\\\\Desktop\\\\coding dec19\\\\project\\\\train_parameter\\\\b3.csv\")"
   ]
  },
  {
   "cell_type": "code",
   "execution_count": 48,
   "metadata": {},
   "outputs": [
    {
     "name": "stdout",
     "output_type": "stream",
     "text": [
      "(256, 784) (64, 256) (10, 64) (256, 1) (64, 1) (10, 1)\n"
     ]
    }
   ],
   "source": [
    "theta1=np.array(theta11)[:,1:]\n",
    "theta2=np.array(theta21)[:,1:]\n",
    "theta3=np.array(theta31)[:,1:]\n",
    "b1=np.array(b11)[:,1:]\n",
    "b2=np.array(b21)[:,1:]\n",
    "b3=np.array(b31)[:,1:]\n",
    "print(theta1.shape,theta2.shape,theta3.shape,b1.shape,b2.shape,b3.shape)"
   ]
  },
  {
   "cell_type": "markdown",
   "metadata": {},
   "source": [
    "# Testing 10 random digit "
   ]
  },
  {
   "cell_type": "code",
   "execution_count": 49,
   "metadata": {},
   "outputs": [
    {
     "name": "stdout",
     "output_type": "stream",
     "text": [
      "[[6]\n",
      " [7]\n",
      " [0]\n",
      " [9]\n",
      " [1]\n",
      " [7]\n",
      " [3]\n",
      " [9]\n",
      " [3]\n",
      " [4]\n",
      " [1]\n",
      " [8]\n",
      " [7]\n",
      " [0]\n",
      " [8]\n",
      " [7]\n",
      " [0]\n",
      " [5]\n",
      " [7]\n",
      " [5]]\n"
     ]
    }
   ],
   "source": [
    "X_rand=np.array(data)[32000:32020,1:]\n",
    "X_rand=X_rand.T # X is 400 X 5000\n",
    "Y_rand=np.array(data)[32000:32020,:1]\n",
    "print(Y_rand)"
   ]
  },
  {
   "cell_type": "code",
   "execution_count": 50,
   "metadata": {},
   "outputs": [],
   "source": [
    "X_rand=X_rand/255"
   ]
  },
  {
   "cell_type": "markdown",
   "metadata": {},
   "source": [
    "X_rand=X1_rand"
   ]
  },
  {
   "cell_type": "code",
   "execution_count": 51,
   "metadata": {},
   "outputs": [
    {
     "name": "stdout",
     "output_type": "stream",
     "text": [
      "[[0. 0. 1. 0. 0. 0. 0. 0. 0. 0. 0. 0. 0. 1. 0. 0. 1. 0. 0. 0.]\n",
      " [0. 0. 0. 0. 1. 0. 0. 0. 0. 0. 1. 0. 0. 0. 0. 0. 0. 0. 0. 0.]\n",
      " [0. 0. 0. 0. 0. 0. 0. 0. 0. 0. 0. 0. 0. 0. 0. 0. 0. 0. 0. 0.]\n",
      " [0. 0. 0. 0. 0. 0. 1. 0. 1. 0. 0. 0. 0. 0. 0. 0. 0. 0. 0. 0.]\n",
      " [0. 0. 0. 0. 0. 0. 0. 0. 0. 1. 0. 0. 0. 0. 0. 0. 0. 0. 0. 0.]\n",
      " [0. 0. 0. 0. 0. 0. 0. 0. 0. 0. 0. 0. 0. 0. 0. 0. 0. 1. 0. 1.]\n",
      " [1. 0. 0. 0. 0. 0. 0. 0. 0. 0. 0. 0. 0. 0. 0. 0. 0. 0. 0. 0.]\n",
      " [0. 1. 0. 0. 0. 1. 0. 0. 0. 0. 0. 0. 1. 0. 0. 1. 0. 0. 1. 0.]\n",
      " [0. 0. 0. 0. 0. 0. 0. 0. 0. 0. 0. 1. 0. 0. 1. 0. 0. 0. 0. 0.]\n",
      " [0. 0. 0. 1. 0. 0. 0. 1. 0. 0. 0. 0. 0. 0. 0. 0. 0. 0. 0. 0.]]\n"
     ]
    }
   ],
   "source": [
    "y1_rand=np.zeros([10,20]) # nearly zero to avoid any problem\n",
    "for u in range(0,20):\n",
    "    y1_rand[Y_rand[u],u]=1\n",
    "print(y1_rand)"
   ]
  },
  {
   "cell_type": "markdown",
   "metadata": {},
   "source": [
    "* appling our algorithm to predict digit uxing pixel value given\n",
    "* pixel value is given in X_rand and we get digit in output_rand"
   ]
  },
  {
   "cell_type": "code",
   "execution_count": 52,
   "metadata": {},
   "outputs": [
    {
     "name": "stdout",
     "output_type": "stream",
     "text": [
      "input shape  (784, 20)\n"
     ]
    }
   ],
   "source": [
    "output_rand=predictions(theta1,theta2,theta3,b1,b2,b3,X_rand) # predict based on model"
   ]
  },
  {
   "cell_type": "code",
   "execution_count": 53,
   "metadata": {},
   "outputs": [
    {
     "name": "stdout",
     "output_type": "stream",
     "text": [
      " Actual digit                Prediction\n",
      "[6]                 [6]\n",
      "[7]                 [7]\n",
      "[0]                 [0]\n",
      "[9]                 [9]\n",
      "[1]                 [1]\n",
      "[7]                 [7]\n",
      "[3]                 [3]\n",
      "[9]                 [9]\n",
      "[3]                 [3]\n",
      "[4]                 [4]\n",
      "[1]                 [1]\n",
      "[8]                 [8]\n",
      "[7]                 [7]\n",
      "[0]                 [0]\n",
      "[8]                 [8]\n",
      "[7]                 [7]\n",
      "[0]                 [0]\n",
      "[5]                 [5]\n",
      "[7]                 [7]\n",
      "[5]                 [5]\n"
     ]
    }
   ],
   "source": [
    "print(\" Actual digit                Prediction\")\n",
    "for i1 in range(0,20):\n",
    "    print(Y_rand[i1],\"               \",output_rand[i1])\n",
    "  "
   ]
  },
  {
   "cell_type": "markdown",
   "metadata": {},
   "source": [
    "print(mn,std)"
   ]
  },
  {
   "cell_type": "code",
   "execution_count": 54,
   "metadata": {},
   "outputs": [
    {
     "name": "stdout",
     "output_type": "stream",
     "text": [
      "Test accuracy: 100.0%\n"
     ]
    }
   ],
   "source": [
    "print(\"Test accuracy:\", str(100 * np.mean(output_rand == Y_rand)) + \"%\") #str is used to convert float to string to concat % with it"
   ]
  },
  {
   "cell_type": "code",
   "execution_count": 55,
   "metadata": {},
   "outputs": [
    {
     "data": {
      "image/png": "[encoded data removed]",
      "text/plain": [
       "<Figure size 432x288 with 1 Axes>"
      ]
     },
     "metadata": {
      "needs_background": "light"
     },
     "output_type": "display_data"
    },
    {
     "name": "stdout",
     "output_type": "stream",
     "text": [
      "         My algorithm predict it to be   [6]\n",
      "            Actually it is  [6]\n",
      "\n"
     ]
    },
    {
     "data": {
      "image/png": "[encoded data removed]",
      "text/plain": [
       "<Figure size 432x288 with 1 Axes>"
      ]
     },
     "metadata": {
      "needs_background": "light"
     },
     "output_type": "display_data"
    },
    {
     "name": "stdout",
     "output_type": "stream",
     "text": [
      "         My algorithm predict it to be   [7]\n",
      "            Actually it is  [7]\n",
      "\n"
     ]
    },
    {
     "data": {
      "image/png": "[encoded data removed]",
      "text/plain": [
       "<Figure size 432x288 with 1 Axes>"
      ]
     },
     "metadata": {
      "needs_background": "light"
     },
     "output_type": "display_data"
    },
    {
     "name": "stdout",
     "output_type": "stream",
     "text": [
      "         My algorithm predict it to be   [0]\n",
      "            Actually it is  [0]\n",
      "\n"
     ]
    },
    {
     "data": {
      "image/png": "[encoded data removed]",
      "text/plain": [
       "<Figure size 432x288 with 1 Axes>"
      ]
     },
     "metadata": {
      "needs_background": "light"
     },
     "output_type": "display_data"
    },
    {
     "name": "stdout",
     "output_type": "stream",
     "text": [
      "         My algorithm predict it to be   [9]\n",
      "            Actually it is  [9]\n",
      "\n"
     ]
    },
    {
     "data": {
      "image/png": "[encoded data removed]",
      "text/plain": [
       "<Figure size 432x288 with 1 Axes>"
      ]
     },
     "metadata": {
      "needs_background": "light"
     },
     "output_type": "display_data"
    },
    {
     "name": "stdout",
     "output_type": "stream",
     "text": [
      "         My algorithm predict it to be   [1]\n",
      "            Actually it is  [1]\n",
      "\n"
     ]
    },
    {
     "data": {
      "image/png": "[encoded data removed]",
      "text/plain": [
       "<Figure size 432x288 with 1 Axes>"
      ]
     },
     "metadata": {
      "needs_background": "light"
     },
     "output_type": "display_data"
    },
    {
     "name": "stdout",
     "output_type": "stream",
     "text": [
      "         My algorithm predict it to be   [7]\n",
      "            Actually it is  [7]\n",
      "\n"
     ]
    },
    {
     "data": {
      "image/png": "[encoded data removed]",
      "text/plain": [
       "<Figure size 432x288 with 1 Axes>"
      ]
     },
     "metadata": {
      "needs_background": "light"
     },
     "output_type": "display_data"
    },
    {
     "name": "stdout",
     "output_type": "stream",
     "text": [
      "         My algorithm predict it to be   [3]\n",
      "            Actually it is  [3]\n",
      "\n"
     ]
    },
    {
     "data": {
      "image/png": "[encoded data removed]",
      "text/plain": [
       "<Figure size 432x288 with 1 Axes>"
      ]
     },
     "metadata": {
      "needs_background": "light"
     },
     "output_type": "display_data"
    },
    {
     "name": "stdout",
     "output_type": "stream",
     "text": [
      "         My algorithm predict it to be   [9]\n",
      "            Actually it is  [9]\n",
      "\n"
     ]
    },
    {
     "data": {
      "image/png": "[encoded data removed]",
      "text/plain": [
       "<Figure size 432x288 with 1 Axes>"
      ]
     },
     "metadata": {
      "needs_background": "light"
     },
     "output_type": "display_data"
    },
    {
     "name": "stdout",
     "output_type": "stream",
     "text": [
      "         My algorithm predict it to be   [3]\n",
      "            Actually it is  [3]\n",
      "\n"
     ]
    },
    {
     "data": {
      "image/png": "[encoded data removed]",
      "text/plain": [
       "<Figure size 432x288 with 1 Axes>"
      ]
     },
     "metadata": {
      "needs_background": "light"
     },
     "output_type": "display_data"
    },
    {
     "name": "stdout",
     "output_type": "stream",
     "text": [
      "         My algorithm predict it to be   [4]\n",
      "            Actually it is  [4]\n",
      "\n"
     ]
    },
    {
     "data": {
      "image/png": "[encoded data removed]",
      "text/plain": [
       "<Figure size 432x288 with 1 Axes>"
      ]
     },
     "metadata": {
      "needs_background": "light"
     },
     "output_type": "display_data"
    },
    {
     "name": "stdout",
     "output_type": "stream",
     "text": [
      "         My algorithm predict it to be   [1]\n",
      "            Actually it is  [1]\n",
      "\n"
     ]
    },
    {
     "data": {
      "image/png": "[encoded data removed]",
      "text/plain": [
       "<Figure size 432x288 with 1 Axes>"
      ]
     },
     "metadata": {
      "needs_background": "light"
     },
     "output_type": "display_data"
    },
    {
     "name": "stdout",
     "output_type": "stream",
     "text": [
      "         My algorithm predict it to be   [8]\n",
      "            Actually it is  [8]\n",
      "\n"
     ]
    },
    {
     "data": {
      "image/png": "[encoded data removed]",
      "text/plain": [
       "<Figure size 432x288 with 1 Axes>"
      ]
     },
     "metadata": {
      "needs_background": "light"
     },
     "output_type": "display_data"
    },
    {
     "name": "stdout",
     "output_type": "stream",
     "text": [
      "         My algorithm predict it to be   [7]\n",
      "            Actually it is  [7]\n",
      "\n"
     ]
    },
    {
     "data": {
      "image/png": "[encoded data removed]",
      "text/plain": [
       "<Figure size 432x288 with 1 Axes>"
      ]
     },
     "metadata": {
      "needs_background": "light"
     },
     "output_type": "display_data"
    },
    {
     "name": "stdout",
     "output_type": "stream",
     "text": [
      "         My algorithm predict it to be   [0]\n",
      "            Actually it is  [0]\n",
      "\n"
     ]
    },
    {
     "data": {
      "image/png": "[encoded data removed]",
      "text/plain": [
       "<Figure size 432x288 with 1 Axes>"
      ]
     },
     "metadata": {
      "needs_background": "light"
     },
     "output_type": "display_data"
    },
    {
     "name": "stdout",
     "output_type": "stream",
     "text": [
      "         My algorithm predict it to be   [8]\n",
      "            Actually it is  [8]\n",
      "\n"
     ]
    },
    {
     "data": {
      "image/png": "[encoded data removed]",
      "text/plain": [
       "<Figure size 432x288 with 1 Axes>"
      ]
     },
     "metadata": {
      "needs_background": "light"
     },
     "output_type": "display_data"
    },
    {
     "name": "stdout",
     "output_type": "stream",
     "text": [
      "         My algorithm predict it to be   [7]\n",
      "            Actually it is  [7]\n",
      "\n"
     ]
    },
    {
     "data": {
      "image/png": "[encoded data removed]",
      "text/plain": [
       "<Figure size 432x288 with 1 Axes>"
      ]
     },
     "metadata": {
      "needs_background": "light"
     },
     "output_type": "display_data"
    },
    {
     "name": "stdout",
     "output_type": "stream",
     "text": [
      "         My algorithm predict it to be   [0]\n",
      "            Actually it is  [0]\n",
      "\n"
     ]
    },
    {
     "data": {
      "image/png": "[encoded data removed]",
      "text/plain": [
       "<Figure size 432x288 with 1 Axes>"
      ]
     },
     "metadata": {
      "needs_background": "light"
     },
     "output_type": "display_data"
    },
    {
     "name": "stdout",
     "output_type": "stream",
     "text": [
      "         My algorithm predict it to be   [5]\n",
      "            Actually it is  [5]\n",
      "\n"
     ]
    },
    {
     "data": {
      "image/png": "[encoded data removed]",
      "text/plain": [
       "<Figure size 432x288 with 1 Axes>"
      ]
     },
     "metadata": {
      "needs_background": "light"
     },
     "output_type": "display_data"
    },
    {
     "name": "stdout",
     "output_type": "stream",
     "text": [
      "         My algorithm predict it to be   [7]\n",
      "            Actually it is  [7]\n",
      "\n"
     ]
    },
    {
     "data": {
      "image/png": "[encoded data removed]",
      "text/plain": [
       "<Figure size 432x288 with 1 Axes>"
      ]
     },
     "metadata": {
      "needs_background": "light"
     },
     "output_type": "display_data"
    },
    {
     "name": "stdout",
     "output_type": "stream",
     "text": [
      "         My algorithm predict it to be   [5]\n",
      "            Actually it is  [5]\n",
      "\n"
     ]
    }
   ],
   "source": [
    "X_rand1=(X_rand.T)*256\n",
    "import matplotlib.pyplot as plt\n",
    "import numpy as np\n",
    " \n",
    "#X = np.random.random((100, 100)) # sample 2D array\n",
    "for i1 in range(0,20):\n",
    "    plt.imshow(X_rand1[i1].reshape([n_pixel,n_pixel]), cmap=\"gray\")\n",
    "    plt.show()\n",
    "    print(\"         My algorithm predict it to be  \",output_rand[i1])\n",
    "    print(\"            Actually it is \",Y_rand[i1])\n",
    "    \n",
    "     \n",
    "    print()\n",
    "    "
   ]
  },
  {
   "cell_type": "code",
   "execution_count": 56,
   "metadata": {},
   "outputs": [],
   "source": [
    "import matplotlib.image as mp\n",
    "import numpy as np\n",
    "from PIL import Image\n",
    "#image1 = Image.open('C:\\\\Users\\\\PRASHANT\\\\Desktop\\\\coding dec19\\\\file_neural\\\\three1.png')\n",
    "\n"
   ]
  },
  {
   "cell_type": "markdown",
   "metadata": {},
   "source": [
    "# frontend part"
   ]
  },
  {
   "cell_type": "code",
   "execution_count": 57,
   "metadata": {},
   "outputs": [
    {
     "name": "stdout",
     "output_type": "stream",
     "text": [
      "paste here your image name six1.png\n"
     ]
    }
   ],
   "source": [
    "image_name=input(\"paste here your image name \")"
   ]
  },
  {
   "cell_type": "code",
   "execution_count": 58,
   "metadata": {},
   "outputs": [
    {
     "name": "stdout",
     "output_type": "stream",
     "text": [
      "paste image location in your computerC:\\Users\\PRASHANT\\Desktop\\coding dec19\\project\n",
      "your loaction with image name C:\\\\Users\\\\PRASHANT\\\\Desktop\\\\coding dec19\\\\project\\\\six1.png\n"
     ]
    }
   ],
   "source": [
    "location=''\n",
    "loc=input(\"paste image location in your computer\")\n",
    "a1=\"\"\"\\\\\"\"\"\n",
    "a1=a1[0]\n",
    "#print(a1)\n",
    "\n",
    "for i1 in range(0,len(loc)):\n",
    "    if loc[i1]== a1:\n",
    "        \n",
    "        location=location+a1+a1\n",
    "    else:\n",
    "        location=location+loc[i1]\n",
    "img=location+a1+a1+image_name        \n",
    "print(\"your loaction with image name\",img)        \n",
    "    \n",
    "    "
   ]
  },
  {
   "cell_type": "code",
   "execution_count": 59,
   "metadata": {},
   "outputs": [],
   "source": [
    "import cv2"
   ]
  },
  {
   "cell_type": "code",
   "execution_count": 60,
   "metadata": {},
   "outputs": [],
   "source": [
    "img7=cv2.imread(img,cv2.IMREAD_GRAYSCALE)"
   ]
  },
  {
   "cell_type": "code",
   "execution_count": 61,
   "metadata": {},
   "outputs": [
    {
     "data": {
      "text/plain": [
       "numpy.ndarray"
      ]
     },
     "execution_count": 61,
     "metadata": {},
     "output_type": "execute_result"
    }
   ],
   "source": [
    "type(img7)"
   ]
  },
  {
   "cell_type": "code",
   "execution_count": 62,
   "metadata": {},
   "outputs": [
    {
     "data": {
      "image/png": "[encoded data removed]",
      "text/plain": [
       "<Figure size 432x288 with 1 Axes>"
      ]
     },
     "metadata": {
      "needs_background": "light"
     },
     "output_type": "display_data"
    }
   ],
   "source": [
    "plt.imshow(img7, cmap=\"gray\")\n",
    "plt.show()"
   ]
  },
  {
   "cell_type": "code",
   "execution_count": 63,
   "metadata": {},
   "outputs": [
    {
     "data": {
      "text/plain": [
       "(599, 602)"
      ]
     },
     "execution_count": 63,
     "metadata": {},
     "output_type": "execute_result"
    }
   ],
   "source": [
    "img7.shape"
   ]
  },
  {
   "cell_type": "code",
   "execution_count": 64,
   "metadata": {},
   "outputs": [],
   "source": [
    "img8=cv2.resize(img7,(28,28))"
   ]
  },
  {
   "cell_type": "code",
   "execution_count": 65,
   "metadata": {},
   "outputs": [
    {
     "data": {
      "image/png": "[encoded data removed]",
      "text/plain": [
       "<Figure size 432x288 with 1 Axes>"
      ]
     },
     "metadata": {
      "needs_background": "light"
     },
     "output_type": "display_data"
    }
   ],
   "source": [
    "plt.imshow(img8, cmap=\"gray\")\n",
    "plt.show()"
   ]
  },
  {
   "cell_type": "code",
   "execution_count": 66,
   "metadata": {},
   "outputs": [
    {
     "data": {
      "text/plain": [
       "(28, 28)"
      ]
     },
     "execution_count": 66,
     "metadata": {},
     "output_type": "execute_result"
    }
   ],
   "source": [
    "img8.shape"
   ]
  },
  {
   "cell_type": "code",
   "execution_count": 67,
   "metadata": {},
   "outputs": [
    {
     "name": "stdout",
     "output_type": "stream",
     "text": [
      "<class 'numpy.ndarray'>\n"
     ]
    }
   ],
   "source": [
    "image1=img8\n",
    "#image1=np.array(image1).reshape((len(image1,1))\n",
    "print(type(image1))\n",
    "#image1=np.array(image1).reshape((len(image1),1))"
   ]
  },
  {
   "cell_type": "code",
   "execution_count": 68,
   "metadata": {},
   "outputs": [],
   "source": [
    "image1=np.array(image1).reshape(784,1)"
   ]
  },
  {
   "cell_type": "code",
   "execution_count": 69,
   "metadata": {},
   "outputs": [],
   "source": [
    "image1=255-image1"
   ]
  },
  {
   "cell_type": "code",
   "execution_count": 70,
   "metadata": {},
   "outputs": [
    {
     "data": {
      "image/png": "[encoded data removed]",
      "text/plain": [
       "<Figure size 432x288 with 1 Axes>"
      ]
     },
     "metadata": {
      "needs_background": "light"
     },
     "output_type": "display_data"
    }
   ],
   "source": [
    "plt.imshow(image1.reshape([28,28]), cmap=\"gray\")\n",
    "plt.show()"
   ]
  },
  {
   "cell_type": "code",
   "execution_count": 71,
   "metadata": {},
   "outputs": [
    {
     "data": {
      "text/plain": [
       "255"
      ]
     },
     "execution_count": 71,
     "metadata": {},
     "output_type": "execute_result"
    }
   ],
   "source": [
    "np.max(image1)"
   ]
  },
  {
   "cell_type": "code",
   "execution_count": 72,
   "metadata": {},
   "outputs": [
    {
     "data": {
      "text/plain": [
       "numpy.ndarray"
      ]
     },
     "execution_count": 72,
     "metadata": {},
     "output_type": "execute_result"
    }
   ],
   "source": [
    "type(image1)"
   ]
  },
  {
   "cell_type": "code",
   "execution_count": 73,
   "metadata": {},
   "outputs": [
    {
     "data": {
      "text/plain": [
       "(784, 1)"
      ]
     },
     "execution_count": 73,
     "metadata": {},
     "output_type": "execute_result"
    }
   ],
   "source": [
    "image1.shape"
   ]
  },
  {
   "cell_type": "markdown",
   "metadata": {},
   "source": [
    "image1=np.array(image1)\n"
   ]
  },
  {
   "cell_type": "code",
   "execution_count": 74,
   "metadata": {},
   "outputs": [
    {
     "data": {
      "text/plain": [
       "255"
      ]
     },
     "execution_count": 74,
     "metadata": {},
     "output_type": "execute_result"
    }
   ],
   "source": [
    "np.max(image1)"
   ]
  },
  {
   "cell_type": "code",
   "execution_count": 75,
   "metadata": {},
   "outputs": [
    {
     "data": {
      "text/plain": [
       "0"
      ]
     },
     "execution_count": 75,
     "metadata": {},
     "output_type": "execute_result"
    }
   ],
   "source": [
    "np.min(image1)"
   ]
  },
  {
   "cell_type": "markdown",
   "metadata": {},
   "source": [
    "image9=image1-mn\n",
    "image10=image9/std"
   ]
  },
  {
   "cell_type": "code",
   "execution_count": 76,
   "metadata": {},
   "outputs": [],
   "source": [
    "image10=image1/255"
   ]
  },
  {
   "cell_type": "code",
   "execution_count": 77,
   "metadata": {},
   "outputs": [
    {
     "data": {
      "text/plain": [
       "1.0"
      ]
     },
     "execution_count": 77,
     "metadata": {},
     "output_type": "execute_result"
    }
   ],
   "source": [
    "np.max(image10)"
   ]
  },
  {
   "cell_type": "code",
   "execution_count": 78,
   "metadata": {},
   "outputs": [],
   "source": [
    "image1=image10"
   ]
  },
  {
   "cell_type": "code",
   "execution_count": 79,
   "metadata": {},
   "outputs": [
    {
     "data": {
      "text/plain": [
       "0.0"
      ]
     },
     "execution_count": 79,
     "metadata": {},
     "output_type": "execute_result"
    }
   ],
   "source": [
    "np.min(image1)"
   ]
  },
  {
   "cell_type": "code",
   "execution_count": 80,
   "metadata": {},
   "outputs": [
    {
     "data": {
      "text/plain": [
       "1.0"
      ]
     },
     "execution_count": 80,
     "metadata": {},
     "output_type": "execute_result"
    }
   ],
   "source": [
    "np.max(image1)"
   ]
  },
  {
   "cell_type": "code",
   "execution_count": 81,
   "metadata": {},
   "outputs": [
    {
     "name": "stdout",
     "output_type": "stream",
     "text": [
      "<class 'numpy.ndarray'>\n",
      "(784, 1)\n"
     ]
    }
   ],
   "source": [
    "print(type(image1))\n",
    "print(image1.shape)"
   ]
  },
  {
   "cell_type": "code",
   "execution_count": 82,
   "metadata": {},
   "outputs": [
    {
     "name": "stdout",
     "output_type": "stream",
     "text": [
      "input shape  (784, 1)\n"
     ]
    }
   ],
   "source": [
    "output_rand=predictions(theta1,theta2,theta3,b1,b2,b3,image1)  #predict based on model"
   ]
  },
  {
   "cell_type": "code",
   "execution_count": 83,
   "metadata": {},
   "outputs": [
    {
     "data": {
      "image/png": "[encoded data removed]",
      "text/plain": [
       "<Figure size 432x288 with 1 Axes>"
      ]
     },
     "metadata": {
      "needs_background": "light"
     },
     "output_type": "display_data"
    },
    {
     "name": "stdout",
     "output_type": "stream",
     "text": [
      "     My algorithm predict it to be   [[6]]\n"
     ]
    }
   ],
   "source": [
    "    plt.imshow(image1.reshape([28,28]), cmap=\"gray\")\n",
    "    plt.show()\n",
    "    print(\"     My algorithm predict it to be  \",output_rand)\n",
    "   "
   ]
  },
  {
   "cell_type": "code",
   "execution_count": 84,
   "metadata": {},
   "outputs": [
    {
     "data": {
      "text/plain": [
       "array([1.])"
      ]
     },
     "execution_count": 84,
     "metadata": {},
     "output_type": "execute_result"
    }
   ],
   "source": [
    "max(image1)"
   ]
  },
  {
   "cell_type": "code",
   "execution_count": 85,
   "metadata": {},
   "outputs": [
    {
     "data": {
      "text/plain": [
       "array([0.])"
      ]
     },
     "execution_count": 85,
     "metadata": {},
     "output_type": "execute_result"
    }
   ],
   "source": [
    "min(image1)"
   ]
  },
  {
   "cell_type": "code",
   "execution_count": 86,
   "metadata": {},
   "outputs": [],
   "source": [
    "z1=output[Y==3]"
   ]
  },
  {
   "cell_type": "code",
   "execution_count": 87,
   "metadata": {},
   "outputs": [
    {
     "name": "stdout",
     "output_type": "stream",
     "text": [
      "(3622,)\n"
     ]
    }
   ],
   "source": [
    "print(z1.shape)"
   ]
  },
  {
   "cell_type": "code",
   "execution_count": 88,
   "metadata": {},
   "outputs": [
    {
     "name": "stdout",
     "output_type": "stream",
     "text": [
      "[0 0 0 1 4 0 6 1 0 0 4 4 6 5 4 4 0 6 0 4 0 5 0 0 4 0 0 4 0 0 0 4 4 0 0 6 0\n",
      " 0 0 0 0 0 0 0 0 0 0 0 0 6 1 0 8 2 0 4 0 8 0 4 6 0 0 0 6 0 0 6 1 0 0 0 0 0\n",
      " 0 4 0 0 0 4 0 1 0 1 0 0 0 0 8 6 0 1 0 0 0 0 4 5 0 0]\n"
     ]
    }
   ],
   "source": [
    "print(z1[:100])"
   ]
  },
  {
   "cell_type": "code",
   "execution_count": 91,
   "metadata": {},
   "outputs": [
    {
     "name": "stdout",
     "output_type": "stream",
     "text": [
      "The predicted image is \n",
      "input shape  (784, 1)\n",
      "[[6]]\n"
     ]
    }
   ],
   "source": [
    "A0=(X_rand.T)[0].reshape(784,1)#20 X 784\n",
    "print(\"The predicted image is \")\n",
    "print(predictions(theta1,theta2,theta3,b1,b2,b3,A0)) # predict based on model"
   ]
  },
  {
   "cell_type": "code",
   "execution_count": 92,
   "metadata": {},
   "outputs": [
    {
     "data": {
      "text/plain": [
       "(784, 20)"
      ]
     },
     "execution_count": 92,
     "metadata": {},
     "output_type": "execute_result"
    }
   ],
   "source": [
    "X_rand.shape"
   ]
  },
  {
   "cell_type": "code",
   "execution_count": null,
   "metadata": {},
   "outputs": [],
   "source": []
  }
 ],
 "metadata": {
  "kernelspec": {
   "display_name": "Python 3",
   "language": "python",
   "name": "python3"
  },
  "language_info": {
   "codemirror_mode": {
    "name": "ipython",
    "version": 3
   },
   "file_extension": ".py",
   "mimetype": "text/x-python",
   "name": "python",
   "nbconvert_exporter": "python",
   "pygments_lexer": "ipython3",
   "version": "3.7.4"
  }
 },
 "nbformat": 4,
 "nbformat_minor": 2
}
